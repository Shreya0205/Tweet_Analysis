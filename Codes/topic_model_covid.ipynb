{
 "cells": [
  {
   "cell_type": "code",
   "execution_count": 1,
   "metadata": {
    "colab": {
     "base_uri": "https://localhost:8080/",
     "height": 51
    },
    "colab_type": "code",
    "id": "jz20E9RdQ-Ez",
    "outputId": "0e211e8c-e67c-447c-88aa-dbf876bf13da"
   },
   "outputs": [
    {
     "name": "stderr",
     "output_type": "stream",
     "text": [
      "/usr/local/lib/python3.6/dist-packages/statsmodels/tools/_testing.py:19: FutureWarning: pandas.util.testing is deprecated. Use the functions in the public API at pandas.testing instead.\n",
      "  import pandas.util.testing as tm\n"
     ]
    }
   ],
   "source": [
    "import json \n",
    "import pandas as pd \n",
    "from pandas.io.json import json_normalize\n",
    "import matplotlib.pyplot as plt\n",
    "import seaborn as sns\n",
    "from sklearn.feature_extraction.text import CountVectorizer\n",
    "from gensim.corpora import Dictionary\n",
    "from gensim.models.ldamodel import LdaModel\n",
    "from gensim.models import CoherenceModel\n",
    "import matplotlib.gridspec as gridspec\n",
    "from gensim.models import LdaMulticore\n"
   ]
  },
  {
   "cell_type": "code",
   "execution_count": 2,
   "metadata": {
    "colab": {
     "base_uri": "https://localhost:8080/",
     "height": 34
    },
    "colab_type": "code",
    "id": "UkZuE44eRQYO",
    "outputId": "d1213cbf-d8bd-4fa4-ea17-2921ef5078ba"
   },
   "outputs": [
    {
     "name": "stdout",
     "output_type": "stream",
     "text": [
      "Drive already mounted at /content/gdrive; to attempt to forcibly remount, call drive.mount(\"/content/gdrive\", force_remount=True).\n"
     ]
    }
   ],
   "source": [
    "from google.colab import drive \n",
    "drive.mount('/content/gdrive') "
   ]
  },
  {
   "cell_type": "code",
   "execution_count": 3,
   "metadata": {
    "colab": {},
    "colab_type": "code",
    "id": "FbE7YBADRTIP"
   },
   "outputs": [],
   "source": [
    "\n",
    "tweets = []\n",
    "j=0\n",
    "with open('/content/gdrive/My Drive/Flickr8kData/twitter_data.json') as file:\n",
    "    for line in file: \n",
    "        if line.strip():\n",
    "            tweets.append(json.loads(line))\n",
    "        \n",
    "df_covid = pd.json_normalize(tweets)"
   ]
  },
  {
   "cell_type": "code",
   "execution_count": 6,
   "metadata": {
    "colab": {},
    "colab_type": "code",
    "id": "C5qeZszlR0VY"
   },
   "outputs": [],
   "source": [
    "df_covid2 = df_covid.loc[df_covid['lang'] == \"en\"]\n"
   ]
  },
  {
   "cell_type": "code",
   "execution_count": 9,
   "metadata": {
    "colab": {
     "base_uri": "https://localhost:8080/",
     "height": 68
    },
    "colab_type": "code",
    "id": "k4RR4NCVSq0j",
    "outputId": "b08ef53b-8096-4418-e728-e8e72175ca8b"
   },
   "outputs": [
    {
     "name": "stdout",
     "output_type": "stream",
     "text": [
      "[nltk_data] Downloading package stopwords to /root/nltk_data...\n",
      "[nltk_data]   Unzipping corpora/stopwords.zip.\n"
     ]
    },
    {
     "data": {
      "text/plain": [
       "True"
      ]
     },
     "execution_count": 9,
     "metadata": {
      "tags": []
     },
     "output_type": "execute_result"
    }
   ],
   "source": [
    "import nltk\n",
    "nltk.download('stopwords')"
   ]
  },
  {
   "cell_type": "code",
   "execution_count": 11,
   "metadata": {
    "colab": {
     "base_uri": "https://localhost:8080/",
     "height": 68
    },
    "colab_type": "code",
    "id": "_YWYc1FuSzzI",
    "outputId": "06ac8ec2-921f-4e70-f261-0fa66bf99833"
   },
   "outputs": [
    {
     "name": "stdout",
     "output_type": "stream",
     "text": [
      "[nltk_data] Downloading package wordnet to /root/nltk_data...\n",
      "[nltk_data]   Unzipping corpora/wordnet.zip.\n"
     ]
    },
    {
     "data": {
      "text/plain": [
       "True"
      ]
     },
     "execution_count": 11,
     "metadata": {
      "tags": []
     },
     "output_type": "execute_result"
    }
   ],
   "source": [
    "import nltk\n",
    "nltk.download('wordnet')"
   ]
  },
  {
   "cell_type": "code",
   "execution_count": 12,
   "metadata": {
    "colab": {},
    "colab_type": "code",
    "id": "I-oVwpL3SCB4"
   },
   "outputs": [],
   "source": [
    "import re\n",
    "import nltk\n",
    "from nltk.tokenize import word_tokenize\n",
    "from string import punctuation \n",
    "from nltk.corpus import stopwords \n",
    "from nltk.tokenize import RegexpTokenizer \n",
    "ps = nltk.PorterStemmer()\n",
    "wn = nltk.WordNetLemmatizer()\n",
    "\n",
    "def lemmatizer(text):\n",
    "    text = [wn.lemmatize(word) for word in text]\n",
    "    return text\n",
    "\n",
    "def stemming(text):\n",
    "    text = [ps.stem(word) for word in text]\n",
    "    return text\n",
    "    \n",
    "\n",
    "def clean_tweets(df=df_covid2, tweet_col='text'):\n",
    "    \n",
    "    df_copy = df.copy()\n",
    "    \n",
    "    df_copy['preprocessed_' + tweet_col] = df_copy[tweet_col].str.lower()\n",
    "    \n",
    "    en_stop_words = set(stopwords.words('english') + list(punctuation) + ['AT_USER','URL'])\n",
    "    extended_stop_words = en_stop_words | \\\n",
    "                        {\n",
    "                            '&amp;', 'rt',                           \n",
    "                            'th','co', 're', 've', 'kim', 'daca'\n",
    "                        }\n",
    "    user = '@[^\\s]+'\n",
    "    url_re = '(https?:\\/\\/(?:www\\.|(?!www))[a-zA-Z0-9][a-zA-Z0-9-]+[a-zA-Z0-9]\\.[^\\s]{2,}|www\\.[a-zA-Z0-9][a-zA-Z0-9-]+[a-zA-Z0-9]\\.[^\\s]{2,}|https?:\\/\\/(?:www\\.|(?!www))[a-zA-Z0-9]+\\.[^\\s]{2,}|www\\.[a-zA-Z0-9]+\\.[^\\s]{2,})'        \n",
    "    df_copy['preprocessed_' + tweet_col] = df_copy['preprocessed_' + tweet_col].apply(lambda row: ' '.join([word for word in row.split() if (not word in extended_stop_words) and (not re.match(url_re, word)) and (not re.match(user, word))]))\n",
    "    \n",
    "    tokenizer = RegexpTokenizer('[a-zA-Z]\\w+\\'?\\w*')\n",
    "    df_copy['preprocessed_' + tweet_col]  = df_copy['preprocessed_' + tweet_col].apply(lambda row: tokenizer.tokenize(row))\n",
    "    df_copy['preprocessed_' + tweet_col] = df_copy['preprocessed_' + tweet_col].apply(lambda x: stemming(x))\n",
    "    df_copy['tokenized_' + tweet_col] = df_copy['preprocessed_' + tweet_col].apply(lambda x: lemmatizer(x))\n",
    "\n",
    "    return df_copy\n",
    "  \n",
    "df_tweets_clean = clean_tweets(df_covid2)\n"
   ]
  },
  {
   "cell_type": "code",
   "execution_count": 13,
   "metadata": {
    "colab": {
     "base_uri": "https://localhost:8080/",
     "height": 351
    },
    "colab_type": "code",
    "id": "ivvfvsH1SHMz",
    "outputId": "fd5c564f-1139-4c5f-bfcb-dab05a9911dd"
   },
   "outputs": [
    {
     "data": {
      "text/plain": [
       "Text(0, 0.5, 'Coherence Score')"
      ]
     },
     "execution_count": 13,
     "metadata": {
      "tags": []
     },
     "output_type": "execute_result"
    },
    {
     "data": {
      "image/png": "[encoded data removed]",
      "text/plain": [
       "<Figure size 720x360 with 1 Axes>"
      ]
     },
     "metadata": {
      "needs_background": "light",
      "tags": []
     },
     "output_type": "display_data"
    }
   ],
   "source": [
    "\n",
    "tweets_dictionary = Dictionary(df_tweets_clean.tokenized_text)\n",
    "\n",
    "# build the corpus i.e. vectors with the number of occurence of each word per tweet\n",
    "tweets_corpus = [tweets_dictionary.doc2bow(tweet) for tweet in df_tweets_clean.tokenized_text]\n",
    "\n",
    "# compute coherence\n",
    "tweets_coherence = []\n",
    "for nb_topics in range(1,10):\n",
    "    lda = LdaMulticore(corpus=tweets_corpus,\n",
    "                                       id2word=tweets_dictionary,\n",
    "                                       num_topics=nb_topics, \n",
    "                                       random_state=100,\n",
    "                                       chunksize=100,\n",
    "                                       passes=10,\n",
    "                                       per_word_topics=True)\n",
    "    #lda = LdaModel(tweets_corpus, num_topics = nb_topics, id2word = tweets_dictionary, passes=10)\n",
    "    cohm = CoherenceModel(model=lda, corpus=tweets_corpus, dictionary=tweets_dictionary, coherence='u_mass')\n",
    "    coh = cohm.get_coherence()\n",
    "    tweets_coherence.append(coh)\n",
    "\n",
    "# visualize coherence\n",
    "plt.figure(figsize=(10,5))\n",
    "plt.plot(range(1,10),tweets_coherence)\n",
    "plt.xlabel(\"Number of Topics\")\n",
    "plt.ylabel(\"Coherence Score\")"
   ]
  },
  {
   "cell_type": "code",
   "execution_count": 16,
   "metadata": {
    "colab": {
     "base_uri": "https://localhost:8080/",
     "height": 458
    },
    "colab_type": "code",
    "id": "vbRMq2fYTByk",
    "outputId": "26ee55f3-2c49-41de-f3f8-5cc3fdb4a413"
   },
   "outputs": [
    {
     "name": "stderr",
     "output_type": "stream",
     "text": [
      "/usr/local/lib/python3.6/dist-packages/matplotlib/backends/backend_agg.py:214: RuntimeWarning: Glyph 12540 missing from current font.\n",
      "  font.set_text(s, 0.0, flags=flags)\n",
      "/usr/local/lib/python3.6/dist-packages/matplotlib/backends/backend_agg.py:183: RuntimeWarning: Glyph 12540 missing from current font.\n",
      "  font.set_text(s, 0, flags=flags)\n"
     ]
    },
    {
     "data": {
      "image/png": "[encoded data removed]",
      "text/plain": [
       "<Figure size 1440x1080 with 1 Axes>"
      ]
     },
     "metadata": {
      "needs_background": "light",
      "tags": []
     },
     "output_type": "display_data"
    }
   ],
   "source": [
    "k = 1\n",
    "import math\n",
    "import matplotlib.gridspec as gridspec\n",
    "\n",
    "tweets_lda = LdaModel(tweets_corpus, num_topics = k, id2word = tweets_dictionary, passes=10)\n",
    "\n",
    "def plot_top_words(lda=tweets_lda, nb_topics=k, nb_words=10):\n",
    "    top_words = [[word for word,_ in lda.show_topic(topic_id, topn=50)] for topic_id in range(lda.num_topics)]\n",
    "    top_betas = [[beta for _,beta in lda.show_topic(topic_id, topn=50)] for topic_id in range(lda.num_topics)]\n",
    "\n",
    "    gs  = gridspec.GridSpec(round(math.sqrt(k))+1,round(math.sqrt(k))+1)\n",
    "    gs.update(wspace=0.5, hspace=0.5)\n",
    "    plt.figure(figsize=(20,15))\n",
    "    for i in range(nb_topics):\n",
    "        ax = plt.subplot(gs[i])\n",
    "        plt.barh(range(nb_words), top_betas[i][:nb_words], align='center',color='blue', ecolor='black')\n",
    "        ax.invert_yaxis()\n",
    "        ax.set_yticks(range(nb_words))\n",
    "        ax.set_yticklabels(top_words[i][:nb_words])\n",
    "        plt.title(\"Topic \"+str(i))\n",
    "        \n",
    "plot_top_words()"
   ]
  }
 ],
 "metadata": {
  "colab": {
   "name": "Untitled7.ipynb",
   "provenance": []
  },
  "kernelspec": {
   "display_name": "Python 3",
   "language": "python",
   "name": "python3"
  },
  "language_info": {
   "codemirror_mode": {
    "name": "ipython",
    "version": 3
   },
   "file_extension": ".py",
   "mimetype": "text/x-python",
   "name": "python",
   "nbconvert_exporter": "python",
   "pygments_lexer": "ipython3",
   "version": "3.7.3"
  }
 },
 "nbformat": 4,
 "nbformat_minor": 1
}
