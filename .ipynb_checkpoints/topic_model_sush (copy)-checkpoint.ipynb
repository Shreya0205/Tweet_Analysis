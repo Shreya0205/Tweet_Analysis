{
 "cells": [
  {
   "cell_type": "code",
   "execution_count": 1,
   "metadata": {
    "colab": {
     "base_uri": "https://localhost:8080/",
     "height": 51
    },
    "colab_type": "code",
    "id": "jz20E9RdQ-Ez",
    "outputId": "8ccc3f8a-7997-4d5d-c75b-5dfd24792def"
   },
   "outputs": [],
   "source": [
    "import json \n",
    "import pandas as pd \n",
    "from pandas.io.json import json_normalize\n",
    "import matplotlib.pyplot as plt\n",
    "import seaborn as sns\n",
    "from sklearn.feature_extraction.text import CountVectorizer\n",
    "from gensim.corpora import Dictionary\n",
    "from gensim.models.ldamodel import LdaModel\n",
    "from gensim.models import CoherenceModel\n",
    "import matplotlib.gridspec as gridspec\n",
    "from gensim.models import LdaMulticore\n",
    "import re\n",
    "import nltk\n",
    "from nltk.tokenize import word_tokenize\n",
    "from string import punctuation \n",
    "from nltk.corpus import stopwords \n",
    "from nltk.tokenize import RegexpTokenizer \n",
    "import math\n",
    "import matplotlib.gridspec as gridspec\n",
    "ps = nltk.PorterStemmer()\n",
    "wn = nltk.WordNetLemmatizer()"
   ]
  },
  {
   "cell_type": "code",
   "execution_count": 2,
   "metadata": {
    "colab": {
     "base_uri": "https://localhost:8080/",
     "height": 34
    },
    "colab_type": "code",
    "id": "UkZuE44eRQYO",
    "outputId": "704e2049-a947-4391-e583-8c3d592c7d8b"
   },
   "outputs": [
    {
     "name": "stdout",
     "output_type": "stream",
     "text": [
      "Drive already mounted at /content/gdrive; to attempt to forcibly remount, call drive.mount(\"/content/gdrive\", force_remount=True).\n"
     ]
    }
   ],
   "source": [
    "from google.colab import drive \n",
    "drive.mount('/content/gdrive') "
   ]
  },
  {
   "cell_type": "code",
   "execution_count": 3,
   "metadata": {
    "colab": {},
    "colab_type": "code",
    "id": "FbE7YBADRTIP"
   },
   "outputs": [],
   "source": [
    "\n",
    "tweets = []\n",
    "j=0\n",
    "\n",
    "def open_file(path):\n",
    "  with open(path) as file:\n",
    "      for line in file: \n",
    "          if line.strip():\n",
    "              tweets.append(json.loads(line))\n",
    "  df = pd.json_normalize(tweets)\n",
    "  return df\n",
    "\n",
    "#df_covid = open_file('/content/gdrive/My Drive/Flickr8kData/twitter_data.json')\n",
    "df_sush = open_file('/content/gdrive/My Drive/Flickr8kData/twitter_sushant.json')"
   ]
  },
  {
   "cell_type": "code",
   "execution_count": 4,
   "metadata": {
    "colab": {},
    "colab_type": "code",
    "id": "C5qeZszlR0VY"
   },
   "outputs": [],
   "source": [
    "#df_covid2 = df_covid.loc[df_covid['lang'] == \"en\"]\n",
    "df_sush2 = df_sush.loc[df_sush['lang'] == \"en\"]"
   ]
  },
  {
   "cell_type": "code",
   "execution_count": 5,
   "metadata": {
    "colab": {
     "base_uri": "https://localhost:8080/",
     "height": 68
    },
    "colab_type": "code",
    "id": "k4RR4NCVSq0j",
    "outputId": "07a8c0c8-3ac0-4a02-8b03-15f5eaf7fc12"
   },
   "outputs": [
    {
     "name": "stdout",
     "output_type": "stream",
     "text": [
      "[nltk_data] Downloading package stopwords to /root/nltk_data...\n",
      "[nltk_data]   Package stopwords is already up-to-date!\n"
     ]
    },
    {
     "data": {
      "text/plain": [
       "True"
      ]
     },
     "execution_count": 5,
     "metadata": {
      "tags": []
     },
     "output_type": "execute_result"
    }
   ],
   "source": [
    "import nltk\n",
    "nltk.download('stopwords')"
   ]
  },
  {
   "cell_type": "code",
   "execution_count": 6,
   "metadata": {
    "colab": {
     "base_uri": "https://localhost:8080/",
     "height": 68
    },
    "colab_type": "code",
    "id": "_YWYc1FuSzzI",
    "outputId": "838920ea-c6ff-443e-9f2f-b1953cfd2673"
   },
   "outputs": [
    {
     "name": "stdout",
     "output_type": "stream",
     "text": [
      "[nltk_data] Downloading package wordnet to /root/nltk_data...\n",
      "[nltk_data]   Package wordnet is already up-to-date!\n"
     ]
    },
    {
     "data": {
      "text/plain": [
       "True"
      ]
     },
     "execution_count": 6,
     "metadata": {
      "tags": []
     },
     "output_type": "execute_result"
    }
   ],
   "source": [
    "import nltk\n",
    "nltk.download('wordnet')"
   ]
  },
  {
   "cell_type": "code",
   "execution_count": 8,
   "metadata": {
    "colab": {},
    "colab_type": "code",
    "id": "I-oVwpL3SCB4"
   },
   "outputs": [],
   "source": [
    "\n",
    "def lemmatizer(text):\n",
    "    text = [wn.lemmatize(word) for word in text]\n",
    "    return text\n",
    "\n",
    "def stemming(text):\n",
    "    text = [ps.stem(word) for word in text]\n",
    "    return text\n",
    "    \n",
    "\n",
    "def clean_tweets(df, tweet_col='text'):\n",
    "    \n",
    "    df_copy = df.copy()\n",
    "    \n",
    "    df_copy['preprocessed_' + tweet_col] = df_copy[tweet_col].str.lower()\n",
    "    \n",
    "    en_stop_words = set(stopwords.words('english') + list(punctuation) + ['AT_USER','URL'])\n",
    "    extended_stop_words = en_stop_words | \\\n",
    "                        {\n",
    "                            '&amp;', 'rt',                           \n",
    "                            'th','co', 're', 've', 'kim', 'daca'\n",
    "                        }\n",
    "    user = '@[^\\s]+'\n",
    "    url_re = '(https?:\\/\\/(?:www\\.|(?!www))[a-zA-Z0-9][a-zA-Z0-9-]+[a-zA-Z0-9]\\.[^\\s]{2,}|www\\.[a-zA-Z0-9][a-zA-Z0-9-]+[a-zA-Z0-9]\\.[^\\s]{2,}|https?:\\/\\/(?:www\\.|(?!www))[a-zA-Z0-9]+\\.[^\\s]{2,}|www\\.[a-zA-Z0-9]+\\.[^\\s]{2,})'        \n",
    "    df_copy['preprocessed_' + tweet_col] = df_copy['preprocessed_' + tweet_col].apply(lambda row: ' '.join([word for word in row.split() if (not word in extended_stop_words) and (not re.match(url_re, word)) and (not re.match(user, word))]))\n",
    "    \n",
    "    tokenizer = RegexpTokenizer('[a-zA-Z]\\w+\\'?\\w*')\n",
    "    df_copy['preprocessed_' + tweet_col]  = df_copy['preprocessed_' + tweet_col].apply(lambda row: tokenizer.tokenize(row))\n",
    "    df_copy['preprocessed_' + tweet_col] = df_copy['preprocessed_' + tweet_col].apply(lambda x: stemming(x))\n",
    "    df_copy['tokenized_' + tweet_col] = df_copy['preprocessed_' + tweet_col].apply(lambda x: lemmatizer(x))\n",
    "\n",
    "    return df_copy\n",
    "  \n",
    "#df_tweets_clean = clean_tweets(df_covid2)\n",
    "df_tweets_clean2 = clean_tweets(df_sush2)"
   ]
  },
  {
   "cell_type": "code",
   "execution_count": 9,
   "metadata": {
    "colab": {
     "base_uri": "https://localhost:8080/",
     "height": 334
    },
    "colab_type": "code",
    "id": "ivvfvsH1SHMz",
    "outputId": "c42e4b9d-da12-4029-bac1-462a461a1364"
   },
   "outputs": [
    {
     "data": {
      "image/png": "[encoded data removed]",
      "text/plain": [
       "<Figure size 720x360 with 1 Axes>"
      ]
     },
     "metadata": {
      "needs_background": "light",
      "tags": []
     },
     "output_type": "display_data"
    }
   ],
   "source": [
    "\n",
    "def draw_graph(df_tweets_clean):\n",
    "  \n",
    "  tweets_dictionary = Dictionary(df_tweets_clean.tokenized_text)\n",
    "\n",
    "  # build the corpus i.e. vectors with the number of occurence of each word per tweet\n",
    "  tweets_corpus = [tweets_dictionary.doc2bow(tweet) for tweet in df_tweets_clean.tokenized_text]\n",
    "\n",
    "  # compute coherence\n",
    "  tweets_coherence = []\n",
    "  for nb_topics in range(1,10):\n",
    "      lda = LdaMulticore(corpus=tweets_corpus,\n",
    "                                        id2word=tweets_dictionary,\n",
    "                                        num_topics=nb_topics, \n",
    "                                        random_state=100,\n",
    "                                        chunksize=100,\n",
    "                                        passes=10,\n",
    "                                        per_word_topics=True)\n",
    "      #lda = LdaModel(tweets_corpus, num_topics = nb_topics, id2word = tweets_dictionary, passes=10)\n",
    "      cohm = CoherenceModel(model=lda, corpus=tweets_corpus, dictionary=tweets_dictionary, coherence='u_mass')\n",
    "      coh = cohm.get_coherence()\n",
    "      tweets_coherence.append(coh)\n",
    "\n",
    "  # visualize coherence\n",
    "  plt.figure(figsize=(10,5))\n",
    "  plt.plot(range(1,10),tweets_coherence)\n",
    "  plt.xlabel(\"Number of Topics\")\n",
    "  plt.ylabel(\"Coherence Score\")\n",
    "\n",
    "  return tweets_corpus, tweets_dictionary\n",
    "\n",
    "\n",
    "#tweets_corpus_covid, tweets_dictionary_covid = draw_graph(df_tweets_clean)\n",
    "tweets_corpus_sush, tweets_dictionary_sush = draw_graph(df_tweets_clean2)\n"
   ]
  },
  {
   "cell_type": "code",
   "execution_count": 10,
   "metadata": {
    "colab": {
     "base_uri": "https://localhost:8080/",
     "height": 407
    },
    "colab_type": "code",
    "id": "vbRMq2fYTByk",
    "outputId": "702a906d-f800-4751-ceab-12ddf2860fb2"
   },
   "outputs": [
    {
     "name": "stdout",
     "output_type": "stream",
     "text": [
      "sush_topics\n"
     ]
    },
    {
     "data": {
      "image/png": "[encoded data removed]",
      "text/plain": [
       "<Figure size 1440x1080 with 2 Axes>"
      ]
     },
     "metadata": {
      "needs_background": "light",
      "tags": []
     },
     "output_type": "display_data"
    }
   ],
   "source": [
    "def topic_model(k, tweets_corpus, tweets_dictionary):\n",
    "  \n",
    "  tweets_lda = LdaModel(tweets_corpus, num_topics = k, id2word = tweets_dictionary, passes=10)\n",
    "\n",
    "  def plot_top_words(lda=tweets_lda, nb_topics=k, nb_words=10):\n",
    "      top_words = [[word for word,_ in lda.show_topic(topic_id, topn=50)] for topic_id in range(lda.num_topics)]\n",
    "      top_betas = [[beta for _,beta in lda.show_topic(topic_id, topn=50)] for topic_id in range(lda.num_topics)]\n",
    "\n",
    "      gs  = gridspec.GridSpec(round(math.sqrt(k))+1,round(math.sqrt(k))+1)\n",
    "      gs.update(wspace=0.5, hspace=0.5)\n",
    "      plt.figure(figsize=(20,15))\n",
    "      for i in range(nb_topics):\n",
    "          ax = plt.subplot(gs[i])\n",
    "          plt.barh(range(nb_words), top_betas[i][:nb_words], align='center',color='blue', ecolor='black')\n",
    "          ax.invert_yaxis()\n",
    "          ax.set_yticks(range(nb_words))\n",
    "          ax.set_yticklabels(top_words[i][:nb_words])\n",
    "          plt.title(\"Topic \"+str(i))\n",
    "          \n",
    "  plot_top_words()\n",
    "\n",
    "\n",
    "#topic_model(k, tweets_corpus_covid, tweets_dictionary_covid)\n",
    "\n",
    "print(\"sush_topics\")\n",
    "topic_model(2, tweets_corpus_sush, tweets_dictionary_sush)"
   ]
  }
 ],
 "metadata": {
  "colab": {
   "name": "Untitled7.ipynb",
   "provenance": []
  },
  "kernelspec": {
   "display_name": "Python 3",
   "language": "python",
   "name": "python3"
  },
  "language_info": {
   "codemirror_mode": {
    "name": "ipython",
    "version": 3
   },
   "file_extension": ".py",
   "mimetype": "text/x-python",
   "name": "python",
   "nbconvert_exporter": "python",
   "pygments_lexer": "ipython3",
   "version": "3.7.3"
  }
 },
 "nbformat": 4,
 "nbformat_minor": 1
}
